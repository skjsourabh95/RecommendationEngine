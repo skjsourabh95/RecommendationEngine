{
 "cells": [
  {
   "cell_type": "code",
   "execution_count": 22,
   "metadata": {},
   "outputs": [],
   "source": [
    "import json\n",
    "import pandas as pd\n",
    "import numpy as np\n",
    "import tqdm\n",
    "from collections import OrderedDict"
   ]
  },
  {
   "cell_type": "code",
   "execution_count": 23,
   "metadata": {},
   "outputs": [],
   "source": [
    "with open('data/input_member_profiles.json','r') as f:\n",
    "    member_profiles = json.load(f)\n",
    "    \n",
    "with open('data/input_challenge_profiles.json','r') as f:\n",
    "    challenge_profiles = json.load(f)\n",
    "    \n",
    "df = pd.read_csv('data/output_for_training.csv')\n",
    "df['Placed'] = df['Placed'].fillna(-1)\n",
    "df = df[(df['Date Date'] > '2019-03-03') & (df['Date Date'] < '2019-05-02')] # taking a slice for testing \n",
    "\n",
    "\n",
    "df_out = pd.read_csv('data/sorted_labels_test_x.csv')\n",
    "df_out = df_out[['Challenge ID','Date Date']].copy()\n"
   ]
  },
  {
   "cell_type": "code",
   "execution_count": 24,
   "metadata": {},
   "outputs": [],
   "source": [
    "test_labels = ['2016/09/14-2020/10/23', '2016/07/16-2020/08/24', '2016/05/17-2020/06/25', '2016/03/18-2020/04/26', '2016/01/18-2020/02/26', '2015/11/19-2019/12/28', '2015/09/20-2019/10/29', '2015/07/22-2019/08/30', '2015/05/23-2019/07/01', '2015/03/24-2019/05/02']\n",
    "test_member_profiles = {key:value for key,value in member_profiles.items() if key in test_labels }"
   ]
  },
  {
   "cell_type": "code",
   "execution_count": 25,
   "metadata": {},
   "outputs": [
    {
     "data": {
      "text/plain": [
       "31033"
      ]
     },
     "execution_count": 25,
     "metadata": {},
     "output_type": "execute_result"
    }
   ],
   "source": [
    "challenge_skills = []\n",
    "for challenges in challenge_profiles:\n",
    "    skills = [skill['tag'] for skill in challenges['skills']]\n",
    "    challenge_skills.append({'id':challenges['id'],'skills':skills})\n",
    "\n",
    "len(challenge_skills)"
   ]
  },
  {
   "cell_type": "code",
   "execution_count": 26,
   "metadata": {},
   "outputs": [],
   "source": [
    "challenges = {}\n",
    "for ch in challenge_skills:\n",
    "    challenges[int(ch['id'])] = ch['skills']"
   ]
  },
  {
   "cell_type": "code",
   "execution_count": 27,
   "metadata": {},
   "outputs": [],
   "source": [
    "train_data = {}\n",
    "for ind,row in df.iterrows():\n",
    "    if row['Challenge ID'] in train_data:\n",
    "        train_data[row['Challenge ID']]['registrants'].append(row['Registrant Handle'])\n",
    "        if row['Submit Ind'] == 1:\n",
    "            train_data[row['Challenge ID']]['submitters'].append(row['Registrant Handle'])\n",
    "        if row['Placed'] != -1:\n",
    "            train_data[row['Challenge ID']]['winners'].append(row['Registrant Handle'])\n",
    "            \n",
    "        train_data[row['Challenge ID']]['skills'] = challenges.get(row['Challenge ID'],[])\n",
    "    else:\n",
    "        train_data[row['Challenge ID']] = {}\n",
    "        train_data[row['Challenge ID']]['registrants'] =[]\n",
    "        train_data[row['Challenge ID']]['submitters'] =[]\n",
    "        train_data[row['Challenge ID']]['winners'] = []\n",
    "        train_data[row['Challenge ID']]['skills'] = []\n",
    "        train_data[row['Challenge ID']]['date'] = row['Date Date']"
   ]
  },
  {
   "cell_type": "code",
   "execution_count": 28,
   "metadata": {},
   "outputs": [
    {
     "name": "stdout",
     "output_type": "stream",
     "text": [
      "no of valid chalenges: 262 no of empty skills challenges: 2313\n"
     ]
    }
   ],
   "source": [
    "challenges_test_data = {}\n",
    "count =0\n",
    "for key,value in train_data.items():\n",
    "    if value['skills']:\n",
    "        challenges_test_data[key] = train_data[key].copy()\n",
    "    else:\n",
    "        count+=1\n",
    "\n",
    "print(\"no of valid chalenges:\",len(challenges_test_data),\"no of empty skills challenges:\",count)\n",
    "\n",
    "for key, value in challenges_test_data.items():\n",
    "    for winner in value['winners']:\n",
    "        value['submitters'] = [submitter for submitter in value['submitters'] if submitter != winner]\n",
    "        value['registrants'] = [registrant for registrant in value['registrants'] if registrant != winner]\n",
    "    for submitter in value['submitters']:\n",
    "        value['registrants'] = [registrant for registrant in value['registrants'] if registrant != submitter]"
   ]
  },
  {
   "cell_type": "code",
   "execution_count": 29,
   "metadata": {
    "scrolled": false
   },
   "outputs": [
    {
     "data": {
      "text/plain": [
       "262"
      ]
     },
     "execution_count": 29,
     "metadata": {},
     "output_type": "execute_result"
    }
   ],
   "source": [
    "len(challenges_test_data) # no of test challenges"
   ]
  },
  {
   "cell_type": "code",
   "execution_count": 30,
   "metadata": {},
   "outputs": [],
   "source": [
    "def get_skill_vector(challenge_skills,member_skills): \n",
    "    val = 0\n",
    "    count=0 \n",
    "    \n",
    "    if challenge_skills and member_skills:\n",
    "        for skill in challenge_skills:\n",
    "            if skill in member_skills:\n",
    "                val+= member_skills[skill]\n",
    "                count+=1\n",
    "  \n",
    "    if val and count: \n",
    "        return val/count\n",
    "    else:\n",
    "        return 0"
   ]
  },
  {
   "cell_type": "code",
   "execution_count": 31,
   "metadata": {},
   "outputs": [],
   "source": [
    "def get_member_profile(challenge_date,member,train_member_profiles):\n",
    "    challenge_date = challenge_date.replace('-','/')\n",
    "    for key in train_member_profiles.keys():\n",
    "        if challenge_date >= key.split('-')[0] and challenge_date <= key.split('-')[1]:\n",
    "            memebers = train_member_profiles[key]\n",
    "            if member in memebers and members[member]:\n",
    "                member_skills = {}\n",
    "                for skills in memebers[member]:\n",
    "                        member_skills[skills['skill']] = skills['skill_confidence']\n",
    "                return member_skills"
   ]
  },
  {
   "cell_type": "code",
   "execution_count": 32,
   "metadata": {},
   "outputs": [],
   "source": [
    "def parse_values(x):\n",
    "    if x> 0 and x < 0.3:\n",
    "        return 1\n",
    "    elif x>= 0.3 and x < 0.6:\n",
    "        return 2\n",
    "    elif x>= 0.6 and x < 0.9:\n",
    "        return 3\n",
    "    elif x>=0.9 and x < 1.5:\n",
    "        return 4\n",
    "    elif x>=1.5:\n",
    "        return 5\n",
    "    else:\n",
    "        return 0"
   ]
  },
  {
   "cell_type": "code",
   "execution_count": 33,
   "metadata": {},
   "outputs": [],
   "source": [
    "from surprise import Reader, Dataset, SVD, dump\n",
    "_, model = dump.load('recmdr')"
   ]
  },
  {
   "cell_type": "code",
   "execution_count": 34,
   "metadata": {},
   "outputs": [],
   "source": [
    "def recommend_members(model,challenge_skills,profiles):\n",
    "    top_members = {}\n",
    "    \n",
    "    for member,skills in profiles.items():\n",
    "        if skills:\n",
    "            member_skills = {}\n",
    "            for skill in skills:\n",
    "                member_skills[skill['skill']] = skill['skill_confidence']\n",
    "            similarity = get_skill_vector(challenge_skills['skills'],member_skills)\n",
    "            prediction = model.predict(challenge_skills['id'],member,parse_values(similarity)).est\n",
    "            top_members[member] = prediction * similarity\n",
    "        \n",
    "    top_members = OrderedDict({k: v for k, v in sorted(top_members.items(), key=lambda item: item[1],reverse=True)})\n",
    "\n",
    "    return list(top_members.keys())[:60]"
   ]
  },
  {
   "cell_type": "code",
   "execution_count": 35,
   "metadata": {},
   "outputs": [],
   "source": [
    "def check_participation_score(top_members,challenge):\n",
    "    final_recmd = []\n",
    "    for member in top_members:\n",
    "        if member in challenge['submitters']:\n",
    "            final_recmd.append([member,1])\n",
    "        elif member in challenge['winners']:\n",
    "            final_recmd.append([member,4])\n",
    "        else:\n",
    "            final_recmd.append([member,0])\n",
    "    #  (actual participation score of the top recommended member) + (actual mean participation score of top 10 recommended members) + (mean participation score of top 60 recommended members)\n",
    "    return final_recmd[0][1] + (sum([final_recmd[m][1] for m in range(10)])/10) + (sum([final_recmd[m][1] for m in range(60)])/60)"
   ]
  },
  {
   "cell_type": "code",
   "execution_count": 36,
   "metadata": {},
   "outputs": [
    {
     "name": "stderr",
     "output_type": "stream",
     "text": [
      "100%|██████████████████████████████████████████████████████████████████████████████████████████████████████████████████████████████████| 10/10 [02:58<00:00, 17.87s/it]\n"
     ]
    }
   ],
   "source": [
    "output_data = []\n",
    "for key in tqdm.tqdm(test_labels):\n",
    "    for challenge in challenges_test_data.keys():\n",
    "        if challenge in challenges:\n",
    "            skills = challenges[challenge]\n",
    "            top_members = recommend_members(model,{'id':str(challenge),'skills':skills},test_member_profiles[key])\n",
    "            output_data.append([key,challenge,skills,top_members])"
   ]
  },
  {
   "cell_type": "code",
   "execution_count": 37,
   "metadata": {},
   "outputs": [
    {
     "data": {
      "text/plain": [
       "2620"
      ]
     },
     "execution_count": 37,
     "metadata": {},
     "output_type": "execute_result"
    }
   ],
   "source": [
    "len(output_data)"
   ]
  },
  {
   "cell_type": "code",
   "execution_count": 38,
   "metadata": {},
   "outputs": [
    {
     "name": "stderr",
     "output_type": "stream",
     "text": [
      "100%|███████████████████████████████████████████████████████████████████████████████████████████████████████████████████████████| 2620/2620 [00:00<00:00, 20523.76it/s]\n"
     ]
    }
   ],
   "source": [
    "scores = []\n",
    "challenge_count =0 \n",
    "for challenge in tqdm.tqdm(output_data):\n",
    "    challenge_count+=1\n",
    "    profile = challenges_test_data[challenge[1]]        \n",
    "    scores.append(check_participation_score(challenge[-1],profile))"
   ]
  },
  {
   "cell_type": "code",
   "execution_count": 39,
   "metadata": {
    "scrolled": true
   },
   "outputs": [
    {
     "data": {
      "text/plain": [
       "{7.6000000000000005: 2,\n",
       " 7.533333333333333: 1,\n",
       " 7.466666666666667: 1,\n",
       " 7.4: 1,\n",
       " 7.2: 4,\n",
       " 7.133333333333333: 3,\n",
       " 7.066666666666666: 4,\n",
       " 7.0: 1,\n",
       " 6.933333333333334: 1,\n",
       " 6.8: 5,\n",
       " 6.733333333333333: 5,\n",
       " 6.666666666666667: 2,\n",
       " 6.6: 2,\n",
       " 6.5: 7,\n",
       " 6.483333333333333: 3,\n",
       " 6.466666666666667: 1,\n",
       " 6.45: 2,\n",
       " 6.416666666666666: 2,\n",
       " 6.4: 1,\n",
       " 6.3999999999999995: 3,\n",
       " 6.383333333333334: 3,\n",
       " 6.366666666666667: 3,\n",
       " 6.366666666666666: 2,\n",
       " 6.35: 2,\n",
       " 6.333333333333333: 11,\n",
       " 6.266666666666667: 3,\n",
       " 6.216666666666667: 1,\n",
       " 6.2: 1,\n",
       " 6.199999999999999: 5,\n",
       " 6.066666666666666: 1,\n",
       " 6.033333333333333: 4,\n",
       " 5.983333333333333: 2,\n",
       " 5.95: 1,\n",
       " 5.883333333333334: 1,\n",
       " 5.866666666666667: 3,\n",
       " 5.733333333333333: 7,\n",
       " 5.666666666666667: 8,\n",
       " 5.65: 2,\n",
       " 5.533333333333333: 15,\n",
       " 5.466666666666667: 15,\n",
       " 5.283333333333333: 2,\n",
       " 5.2: 3,\n",
       " 5.183333333333334: 4,\n",
       " 5.133333333333333: 5,\n",
       " 5.066666666666666: 4,\n",
       " 4.966666666666667: 1,\n",
       " 4.933333333333334: 16,\n",
       " 4.733333333333333: 2,\n",
       " 4.666666666666667: 1,\n",
       " 4.6000000000000005: 5,\n",
       " 4.533333333333334: 35,\n",
       " 4.466666666666667: 90,\n",
       " 2.933333333333333: 1,\n",
       " 2.8666666666666667: 1,\n",
       " 2.7333333333333334: 2,\n",
       " 2.65: 2,\n",
       " 2.6333333333333333: 5,\n",
       " 2.6166666666666663: 1,\n",
       " 2.583333333333333: 1,\n",
       " 2.5666666666666664: 1,\n",
       " 2.466666666666667: 4,\n",
       " 2.4000000000000004: 2,\n",
       " 2.3333333333333335: 3,\n",
       " 2.3166666666666664: 2,\n",
       " 2.3: 1,\n",
       " 2.25: 4,\n",
       " 2.2333333333333334: 2,\n",
       " 2.1666666666666665: 7,\n",
       " 2.1333333333333333: 1,\n",
       " 2.0999999999999996: 1,\n",
       " 2.066666666666667: 2,\n",
       " 2.05: 3,\n",
       " 2.033333333333333: 10,\n",
       " 2.0166666666666666: 4,\n",
       " 1.95: 2,\n",
       " 1.8: 2,\n",
       " 1.7833333333333334: 1,\n",
       " 1.7666666666666666: 1,\n",
       " 1.7333333333333334: 2,\n",
       " 1.7000000000000002: 4,\n",
       " 1.6833333333333333: 7,\n",
       " 1.6666666666666667: 8,\n",
       " 1.6666666666666665: 1,\n",
       " 1.6500000000000001: 3,\n",
       " 1.6333333333333333: 1,\n",
       " 1.6: 12,\n",
       " 1.5333333333333332: 7,\n",
       " 1.4666666666666666: 3,\n",
       " 1.4333333333333333: 1,\n",
       " 1.4: 1,\n",
       " 1.3666666666666667: 1,\n",
       " 1.35: 2,\n",
       " 1.3333333333333333: 4,\n",
       " 1.2999999999999998: 2,\n",
       " 1.2833333333333332: 1,\n",
       " 1.2666666666666666: 3,\n",
       " 1.25: 2,\n",
       " 1.2333333333333334: 1,\n",
       " 1.2000000000000002: 9,\n",
       " 1.2: 3,\n",
       " 1.1833333333333333: 4,\n",
       " 1.1333333333333333: 16,\n",
       " 1.1: 10,\n",
       " 1.0833333333333335: 1,\n",
       " 1.0666666666666667: 10,\n",
       " 1.0333333333333334: 2,\n",
       " 1.0166666666666666: 14,\n",
       " 1.0: 16,\n",
       " 0.9666666666666667: 6,\n",
       " 0.9500000000000001: 2,\n",
       " 0.9333333333333333: 14,\n",
       " 0.8999999999999999: 1,\n",
       " 0.7333333333333334: 5,\n",
       " 0.6833333333333333: 2,\n",
       " 0.6666666666666667: 5,\n",
       " 0.6333333333333333: 3,\n",
       " 0.6166666666666667: 3,\n",
       " 0.6000000000000001: 22,\n",
       " 0.5833333333333334: 5,\n",
       " 0.55: 1,\n",
       " 0.5333333333333333: 63,\n",
       " 0.48333333333333334: 2,\n",
       " 0.4666666666666667: 267,\n",
       " 0.33333333333333337: 5,\n",
       " 0.31666666666666665: 3,\n",
       " 0.30000000000000004: 5,\n",
       " 0.26666666666666666: 4,\n",
       " 0.25: 1,\n",
       " 0.23333333333333334: 3,\n",
       " 0.2: 27,\n",
       " 0.18333333333333335: 4,\n",
       " 0.18333333333333332: 4,\n",
       " 0.15000000000000002: 3,\n",
       " 0.15: 4,\n",
       " 0.13333333333333333: 68,\n",
       " 0.11666666666666667: 32,\n",
       " 0.1: 24,\n",
       " 0.08333333333333333: 24,\n",
       " 0.06666666666666667: 324,\n",
       " 0.05: 11,\n",
       " 0.03333333333333333: 38,\n",
       " 0.016666666666666666: 78,\n",
       " 0.0: 1031}"
      ]
     },
     "execution_count": 39,
     "metadata": {},
     "output_type": "execute_result"
    }
   ],
   "source": [
    "from collections import Counter\n",
    "\n",
    "dict(sorted(Counter(scores).items(), key=lambda t: t[0],reverse=True))"
   ]
  },
  {
   "cell_type": "code",
   "execution_count": 40,
   "metadata": {},
   "outputs": [
    {
     "data": {
      "text/plain": [
       "0.8620737913486013"
      ]
     },
     "execution_count": 40,
     "metadata": {},
     "output_type": "execute_result"
    }
   ],
   "source": [
    "sum(scores)/len(scores)"
   ]
  },
  {
   "cell_type": "code",
   "execution_count": null,
   "metadata": {},
   "outputs": [],
   "source": []
  }
 ],
 "metadata": {
  "kernelspec": {
   "display_name": "Python 3",
   "language": "python",
   "name": "python3"
  },
  "language_info": {
   "codemirror_mode": {
    "name": "ipython",
    "version": 3
   },
   "file_extension": ".py",
   "mimetype": "text/x-python",
   "name": "python",
   "nbconvert_exporter": "python",
   "pygments_lexer": "ipython3",
   "version": "3.7.3"
  }
 },
 "nbformat": 4,
 "nbformat_minor": 2
}
