{
 "cells": [
  {
   "cell_type": "code",
   "execution_count": 1,
   "metadata": {},
   "outputs": [],
   "source": [
    "import json\n",
    "import pandas as pd\n",
    "import numpy as np\n",
    "import tqdm\n",
    "from collections import OrderedDict"
   ]
  },
  {
   "cell_type": "markdown",
   "metadata": {},
   "source": [
    "# Load Necessary Data Files"
   ]
  },
  {
   "cell_type": "code",
   "execution_count": 2,
   "metadata": {},
   "outputs": [],
   "source": [
    "with open('data/input_member_profiles.json','r') as f:\n",
    "    member_profiles = json.load(f)\n",
    "    \n",
    "with open('data/input_challenge_profiles.json','r') as f:\n",
    "    challenge_profiles = json.load(f)\n",
    "    \n",
    "df = pd.read_csv('data/output_for_training.csv')\n",
    "df['Placed'] = df['Placed'].fillna(-1)\n",
    "\n",
    "df_out = pd.read_csv('data/sorted_labels_test_x.csv')\n",
    "df_out = df_out[['Challenge ID','Date Date']].copy()"
   ]
  },
  {
   "cell_type": "markdown",
   "metadata": {},
   "source": [
    "# Splitting Test and Train Member Profiles"
   ]
  },
  {
   "cell_type": "code",
   "execution_count": 3,
   "metadata": {},
   "outputs": [],
   "source": [
    "test_labels = ['2016/09/14-2020/10/23', '2016/07/16-2020/08/24', '2016/05/17-2020/06/25', '2016/03/18-2020/04/26', '2016/01/18-2020/02/26', '2015/11/19-2019/12/28', '2015/09/20-2019/10/29', '2015/07/22-2019/08/30', '2015/05/23-2019/07/01', '2015/03/24-2019/05/02']\n",
    "train_labels = [key for key in member_profiles.keys() if key not in test_labels] \n",
    "\n",
    "train_member_profiles = {key:value for key,value in member_profiles.items() if key in train_labels }\n",
    "test_member_profiles = {key:value for key,value in member_profiles.items() if key in test_labels }"
   ]
  },
  {
   "cell_type": "code",
   "execution_count": 4,
   "metadata": {},
   "outputs": [],
   "source": [
    "# Create  dict of Challenge_id and skills"
   ]
  },
  {
   "cell_type": "code",
   "execution_count": 5,
   "metadata": {},
   "outputs": [
    {
     "data": {
      "text/plain": [
       "31033"
      ]
     },
     "execution_count": 5,
     "metadata": {},
     "output_type": "execute_result"
    }
   ],
   "source": [
    "challenge_skills = []\n",
    "for challenges in challenge_profiles:\n",
    "    skills = [skill['tag'] for skill in challenges['skills']]\n",
    "    challenge_skills.append({'id':challenges['id'],'skills':skills})\n",
    "\n",
    "len(challenge_skills)"
   ]
  },
  {
   "cell_type": "code",
   "execution_count": 6,
   "metadata": {},
   "outputs": [],
   "source": [
    "challenges = {}\n",
    "for ch in challenge_skills:\n",
    "    challenges[int(ch['id'])] = ch['skills']"
   ]
  },
  {
   "cell_type": "markdown",
   "metadata": {},
   "source": [
    "### Create the Ground truth Dict from the csv file taking common challenges of both csv and challenge_profile_json files"
   ]
  },
  {
   "cell_type": "code",
   "execution_count": 7,
   "metadata": {},
   "outputs": [],
   "source": [
    "train_data = {}\n",
    "for ind,row in df.iterrows():\n",
    "    if row['Challenge ID'] in train_data:\n",
    "        train_data[row['Challenge ID']]['registrants'].append(row['Registrant Handle'])\n",
    "        if row['Submit Ind'] == 1:\n",
    "            train_data[row['Challenge ID']]['submitters'].append(row['Registrant Handle'])\n",
    "        if row['Placed'] != -1:\n",
    "            train_data[row['Challenge ID']]['winners'].append(row['Registrant Handle'])\n",
    "            \n",
    "        train_data[row['Challenge ID']]['skills'] = challenges.get(row['Challenge ID'],[])\n",
    "    else:\n",
    "        train_data[row['Challenge ID']] = {}\n",
    "        train_data[row['Challenge ID']]['registrants'] =[]\n",
    "        train_data[row['Challenge ID']]['submitters'] =[]\n",
    "        train_data[row['Challenge ID']]['winners'] = []\n",
    "        train_data[row['Challenge ID']]['skills'] = []\n",
    "        train_data[row['Challenge ID']]['date'] = row['Date Date']"
   ]
  },
  {
   "cell_type": "markdown",
   "metadata": {},
   "source": [
    "# Data Preparation"
   ]
  },
  {
   "cell_type": "code",
   "execution_count": 8,
   "metadata": {},
   "outputs": [
    {
     "name": "stdout",
     "output_type": "stream",
     "text": [
      "no of valid chalenges: 17246 no of empty skills challenges: 25007\n"
     ]
    }
   ],
   "source": [
    "challenges_train_data = {}\n",
    "count =0\n",
    "for key,value in train_data.items():\n",
    "    if value['skills']:\n",
    "        challenges_train_data[str(key)] = train_data[key].copy()\n",
    "    else:\n",
    "        count+=1\n",
    "\n",
    "print(\"no of valid chalenges:\",len(challenges_train_data),\"no of empty skills challenges:\",count)\n",
    "\n",
    "for key, value in challenges_train_data.items():\n",
    "    for winner in value['winners']:\n",
    "        value['submitters'] = [submitter for submitter in value['submitters'] if submitter != winner]\n",
    "        value['registrants'] = [registrant for registrant in value['registrants'] if registrant != winner]\n",
    "    for submitter in value['submitters']:\n",
    "        value['registrants'] = [registrant for registrant in value['registrants'] if registrant != submitter]"
   ]
  },
  {
   "cell_type": "code",
   "execution_count": 9,
   "metadata": {},
   "outputs": [],
   "source": [
    "def get_skill_vector(challenge_skills,member_skills):\n",
    "    \"\"\"Take average score of a challenge skill against a member skills\"\"\"\n",
    "    val = 0\n",
    "    count=0 \n",
    "    \n",
    "    if challenge_skills and member_skills:\n",
    "        for skill in challenge_skills:\n",
    "            if skill in member_skills:\n",
    "                val+= member_skills[skill]\n",
    "                count+=1                \n",
    "    if val and count: \n",
    "        return val/count\n",
    "    else:\n",
    "        return 0"
   ]
  },
  {
   "cell_type": "code",
   "execution_count": 10,
   "metadata": {},
   "outputs": [],
   "source": [
    "def get_member_profile(challenge_date,member,train_member_profiles):\n",
    "    \"\"\" get a member skills of a given slice\"\"\"\n",
    "    challenge_date = challenge_date.replace('-','/')\n",
    "    for key in train_member_profiles.keys():\n",
    "        if challenge_date >= key.split('-')[0] and challenge_date <= key.split('-')[1]:\n",
    "            memebers = train_member_profiles[key]\n",
    "            if member in memebers and memebers[member]:\n",
    "                member_skills = {}\n",
    "                for skills in memebers[member]:\n",
    "                        member_skills[skills['skill']] = skills['skill_confidence']\n",
    "                return member_skills"
   ]
  },
  {
   "cell_type": "code",
   "execution_count": 11,
   "metadata": {},
   "outputs": [],
   "source": [
    "def create_training_data(train_member_profiles,challenges_data):\n",
    "    data = []\n",
    "    for challenge,values in tqdm.tqdm(challenges_data.items()):\n",
    "        for registrant in values['registrants']:\n",
    "            member_profile = get_member_profile(values['date'],registrant,train_member_profiles)\n",
    "            similarity = get_skill_vector(values['skills'],member_profile)\n",
    "            if similarity:\n",
    "                data.append([challenge,registrant,similarity,0])\n",
    "            \n",
    "        for submit in values['submitters']:\n",
    "            member_profile = get_member_profile(values['date'],submit,train_member_profiles)\n",
    "            similarity = get_skill_vector(values['skills'],member_profile)\n",
    "            if similarity:\n",
    "                data.append([challenge,registrant,similarity,1])\n",
    "            \n",
    "        for winner in values['winners']:\n",
    "            member_profile = get_member_profile(values['date'],winner,train_member_profiles)\n",
    "            similarity = get_skill_vector(values['skills'],member_profile)\n",
    "            if similarity:\n",
    "                data.append([challenge,registrant,similarity,4])\n",
    "    return data  "
   ]
  },
  {
   "cell_type": "code",
   "execution_count": 12,
   "metadata": {},
   "outputs": [
    {
     "name": "stderr",
     "output_type": "stream",
     "text": [
      "100%|██████████████████████████████████████████████████████████████████████████████████████████████████████████████████████████| 17246/17246 [00:11<00:00, 1489.53it/s]\n"
     ]
    }
   ],
   "source": [
    "data = create_training_data(train_member_profiles,challenges_train_data)"
   ]
  },
  {
   "cell_type": "code",
   "execution_count": 13,
   "metadata": {},
   "outputs": [
    {
     "data": {
      "text/plain": [
       "(183477, 4)"
      ]
     },
     "execution_count": 13,
     "metadata": {},
     "output_type": "execute_result"
    }
   ],
   "source": [
    "df = pd.DataFrame(data,columns=['challenge','member','similarity','score'])\n",
    "df.shape"
   ]
  },
  {
   "cell_type": "code",
   "execution_count": 32,
   "metadata": {},
   "outputs": [
    {
     "data": {
      "text/html": [
       "<div>\n",
       "<style scoped>\n",
       "    .dataframe tbody tr th:only-of-type {\n",
       "        vertical-align: middle;\n",
       "    }\n",
       "\n",
       "    .dataframe tbody tr th {\n",
       "        vertical-align: top;\n",
       "    }\n",
       "\n",
       "    .dataframe thead th {\n",
       "        text-align: right;\n",
       "    }\n",
       "</style>\n",
       "<table border=\"1\" class=\"dataframe\">\n",
       "  <thead>\n",
       "    <tr style=\"text-align: right;\">\n",
       "      <th></th>\n",
       "      <th>challenge</th>\n",
       "      <th>member</th>\n",
       "      <th>similarity</th>\n",
       "      <th>score</th>\n",
       "      <th>rating</th>\n",
       "    </tr>\n",
       "  </thead>\n",
       "  <tbody>\n",
       "    <tr>\n",
       "      <th>0</th>\n",
       "      <td>30010140</td>\n",
       "      <td>Schpotsky</td>\n",
       "      <td>0.715</td>\n",
       "      <td>0</td>\n",
       "      <td>3</td>\n",
       "    </tr>\n",
       "    <tr>\n",
       "      <th>1</th>\n",
       "      <td>30010140</td>\n",
       "      <td>agus.mw</td>\n",
       "      <td>0.150</td>\n",
       "      <td>0</td>\n",
       "      <td>1</td>\n",
       "    </tr>\n",
       "    <tr>\n",
       "      <th>2</th>\n",
       "      <td>30010140</td>\n",
       "      <td>fivestarwy</td>\n",
       "      <td>0.244</td>\n",
       "      <td>0</td>\n",
       "      <td>1</td>\n",
       "    </tr>\n",
       "    <tr>\n",
       "      <th>3</th>\n",
       "      <td>30010140</td>\n",
       "      <td>snoopybaba</td>\n",
       "      <td>0.407</td>\n",
       "      <td>4</td>\n",
       "      <td>2</td>\n",
       "    </tr>\n",
       "    <tr>\n",
       "      <th>4</th>\n",
       "      <td>30010449</td>\n",
       "      <td>bramandia</td>\n",
       "      <td>0.128</td>\n",
       "      <td>0</td>\n",
       "      <td>1</td>\n",
       "    </tr>\n",
       "  </tbody>\n",
       "</table>\n",
       "</div>"
      ],
      "text/plain": [
       "  challenge      member  similarity  score  rating\n",
       "0  30010140   Schpotsky       0.715      0       3\n",
       "1  30010140     agus.mw       0.150      0       1\n",
       "2  30010140  fivestarwy       0.244      0       1\n",
       "3  30010140  snoopybaba       0.407      4       2\n",
       "4  30010449   bramandia       0.128      0       1"
      ]
     },
     "execution_count": 32,
     "metadata": {},
     "output_type": "execute_result"
    }
   ],
   "source": [
    "def parse_values(x):\n",
    "    \"\"\"parsing the similarity score into ratings for the model\"\"\"\n",
    "    if x> 0 and x < 0.3:\n",
    "        return 1\n",
    "    elif x>= 0.3 and x < 0.6:\n",
    "        return 2\n",
    "    elif x>= 0.6 and x < 0.9:\n",
    "        return 3\n",
    "    elif x>=0.9 and x < 1.5:\n",
    "        return 4\n",
    "    elif x>=1.5:\n",
    "        return 5\n",
    "    else:\n",
    "        return 0\n",
    "\n",
    "df['rating'] = df['similarity'].apply(parse_values)\n",
    "\n",
    "df.head()"
   ]
  },
  {
   "cell_type": "code",
   "execution_count": 33,
   "metadata": {},
   "outputs": [
    {
     "data": {
      "text/plain": [
       "2    54042\n",
       "1    38458\n",
       "4    37678\n",
       "3    32801\n",
       "5    20498\n",
       "Name: rating, dtype: int64"
      ]
     },
     "execution_count": 33,
     "metadata": {},
     "output_type": "execute_result"
    }
   ],
   "source": [
    "df['rating'].value_counts()"
   ]
  },
  {
   "cell_type": "markdown",
   "metadata": {},
   "source": [
    "# Model Training"
   ]
  },
  {
   "cell_type": "code",
   "execution_count": 34,
   "metadata": {},
   "outputs": [],
   "source": [
    "from surprise import Reader, Dataset, SVD, dump\n",
    "from surprise.model_selection.validation import cross_validate\n",
    "\n",
    "reader = Reader()\n",
    "data = Dataset.load_from_df(df[['challenge', 'member','rating']], reader)\n",
    "svd = SVD()"
   ]
  },
  {
   "cell_type": "code",
   "execution_count": 35,
   "metadata": {},
   "outputs": [
    {
     "name": "stdout",
     "output_type": "stream",
     "text": [
      "Evaluating RMSE, MAE of algorithm SVD on 5 split(s).\n",
      "\n",
      "                  Fold 1  Fold 2  Fold 3  Fold 4  Fold 5  Mean    Std     \n",
      "RMSE (testset)    0.9311  0.9341  0.9349  0.9327  0.9273  0.9320  0.0027  \n",
      "MAE (testset)     0.7064  0.7059  0.7069  0.7049  0.7013  0.7051  0.0020  \n",
      "Fit time          10.08   9.21    9.41    9.93    9.47    9.62    0.33    \n",
      "Test time         0.64    0.30    0.29    0.55    0.30    0.42    0.15    \n"
     ]
    },
    {
     "data": {
      "text/plain": [
       "{'test_rmse': array([0.93109953, 0.93410526, 0.93491389, 0.93266065, 0.92726105]),\n",
       " 'test_mae': array([0.70635319, 0.70594404, 0.70686724, 0.70494893, 0.7013179 ]),\n",
       " 'fit_time': (10.077051877975464,\n",
       "  9.211367130279541,\n",
       "  9.410834550857544,\n",
       "  9.927453517913818,\n",
       "  9.46568775177002),\n",
       " 'test_time': (0.6412844657897949,\n",
       "  0.30019569396972656,\n",
       "  0.2932159900665283,\n",
       "  0.5495283603668213,\n",
       "  0.3041865825653076)}"
      ]
     },
     "execution_count": 35,
     "metadata": {},
     "output_type": "execute_result"
    }
   ],
   "source": [
    "cross_validate(svd, data, measures=['RMSE', 'MAE'], cv=5, verbose=True)"
   ]
  },
  {
   "cell_type": "code",
   "execution_count": 36,
   "metadata": {},
   "outputs": [],
   "source": [
    "trainset = data.build_full_trainset()\n",
    "model = svd.fit(trainset)"
   ]
  },
  {
   "cell_type": "markdown",
   "metadata": {},
   "source": [
    "# Save Model"
   ]
  },
  {
   "cell_type": "code",
   "execution_count": 37,
   "metadata": {},
   "outputs": [],
   "source": [
    "dump.dump('recmdr', algo=model)\n",
    "_, model = dump.load('recmdr')"
   ]
  },
  {
   "cell_type": "code",
   "execution_count": 38,
   "metadata": {},
   "outputs": [],
   "source": [
    "def recommend_members(model,challenge_skills,profiles):\n",
    "    \"\"\"recommend top 60 members for a challenge given a member slice\"\"\"\n",
    "    top_members = {}\n",
    "    \n",
    "    for member,skills in profiles.items():\n",
    "        member_skills = {}\n",
    "        if skills:\n",
    "            for skill in skills:\n",
    "                member_skills[skill['skill']] = skill['skill_confidence']\n",
    "            similarity = get_skill_vector(challenge_skills['skills'],member_skills)\n",
    "            prediction = model.predict(challenge_skills['id'],member,parse_values(similarity)).est\n",
    "            top_members[member] = prediction * similarity\n",
    "        \n",
    "    top_members = OrderedDict({k: v for k, v in sorted(top_members.items(), key=lambda item: item[1],reverse=True)})\n",
    "\n",
    "    return list(top_members.keys())[:60]"
   ]
  },
  {
   "cell_type": "code",
   "execution_count": 39,
   "metadata": {},
   "outputs": [],
   "source": [
    "def check_participation_score(top_members,challenge):\n",
    "    \"\"\" given a challenge Truth Values calculate the participation score of the challenge\"\"\"\n",
    "    final_recmd = []\n",
    "    for member in top_members:\n",
    "        if member in challenge['submitters']:\n",
    "            final_recmd.append([member,1])\n",
    "        elif member in challenge['winners']:\n",
    "            final_recmd.append([member,4])\n",
    "        else:\n",
    "            final_recmd.append([member,0])\n",
    "    #  (actual participation score of the top recommended member) + (actual mean participation score of top 10 recommended members) + (mean participation score of top 60 recommended members)\n",
    "    return final_recmd[0][1] + (sum([final_recmd[m][1] for m in range(10)])/10) + (sum([final_recmd[m][1] for m in range(60)])/60)"
   ]
  },
  {
   "cell_type": "markdown",
   "metadata": {},
   "source": [
    "# Testing Model"
   ]
  },
  {
   "cell_type": "code",
   "execution_count": 40,
   "metadata": {},
   "outputs": [
    {
     "name": "stdout",
     "output_type": "stream",
     "text": [
      "{'registrants': ['codingdrone', 'Standlove', 'c0dezer0', 'karthiks416', 'wcheung', 'ChenXiaoTemp', 'jackchongs', 'XinScirpt', 'gjw99', 'pfilippi', 'e06widu', 'lanchongyizu', 'twds', 'panoptimum', 'sunbinbrother', 'phead', 'DeimonDB', 'Brunall', 'Anthony.Eden', 'Gando19850304', 'peakpado', 'zsudraco', 'binaary01', 'rixiac', 'itkankan', 'vitocorleone201', 'slayerjain', 'tuxing', 'wood387', 'phaniram', 'ecavalier313', 'stevelvovo', 'graphit', 'blu3fox'], 'submitters': [], 'winners': ['cam.ashwini', 'muzehyun', 'ondrejba', 'edisonwu'], 'skills': ['Application Programming Interface (API)', 'Cloudhub', 'Integration', 'Mongodb', 'Node.Js', 'Open Source Softwares', 'Test Runner'], 'date': '2016-04-27', 'id': '30053920'}\n"
     ]
    }
   ],
   "source": [
    "profiles = train_member_profiles[ '2010/04/19-2014/05/28']\n",
    "challenge = challenges_train_data['30053920']\n",
    "challenge['id'] = '30053920'\n",
    "print(challenge)"
   ]
  },
  {
   "cell_type": "code",
   "execution_count": 41,
   "metadata": {},
   "outputs": [],
   "source": [
    "top_members = recommend_members(model,challenge,profiles)"
   ]
  },
  {
   "cell_type": "code",
   "execution_count": 42,
   "metadata": {
    "scrolled": true
   },
   "outputs": [
    {
     "data": {
      "text/plain": [
       "['Sky_',\n",
       " 'Applications',\n",
       " 'Ghost_141',\n",
       " 'hi4sandy',\n",
       " 'freegod',\n",
       " 'muzehyun',\n",
       " 'albertwang',\n",
       " 'morehappiness',\n",
       " 'sdgun',\n",
       " 'zsudraco',\n",
       " 'dljg718',\n",
       " 'liuliquan',\n",
       " 'NightWolf',\n",
       " 'flytoj2ee',\n",
       " 'hesibo',\n",
       " 'Standlove',\n",
       " 'peakpado',\n",
       " 'isv',\n",
       " 'LazyChild',\n",
       " 'kurtrips',\n",
       " 'pvmagacho',\n",
       " 'evilkyro1965',\n",
       " 'abedavera',\n",
       " 'selvia_ettine',\n",
       " 'stevenfrog',\n",
       " 'salesforcesmarty',\n",
       " 'gh3ablo',\n",
       " 'rjnpnigrhi',\n",
       " 'j3_guile',\n",
       " 'winterflame',\n",
       " 'iversonLv',\n",
       " 'maymay',\n",
       " 'yoki',\n",
       " 'snehaheda',\n",
       " 'picachui',\n",
       " 'theakhilis',\n",
       " 'Brightspring',\n",
       " 'chok68',\n",
       " 'bugbuka',\n",
       " 'gjw99',\n",
       " 'KennyAlive',\n",
       " 'ahmed.seddiq',\n",
       " 'panoptimum',\n",
       " 'sparemax',\n",
       " 'nithyaasworld',\n",
       " 'fairy_ley',\n",
       " 'gvir',\n",
       " 'faeton',\n",
       " 'Zulander',\n",
       " 'thinkcreeper',\n",
       " 'vvvpig',\n",
       " 'dileepa',\n",
       " 'basuki',\n",
       " 'iamtong',\n",
       " 'yedtoss',\n",
       " 'velorien',\n",
       " 'GreatKevin',\n",
       " 'babyface168',\n",
       " 'iSpartan',\n",
       " 'gangparia']"
      ]
     },
     "execution_count": 42,
     "metadata": {},
     "output_type": "execute_result"
    }
   ],
   "source": [
    "top_members"
   ]
  },
  {
   "cell_type": "code",
   "execution_count": 43,
   "metadata": {},
   "outputs": [
    {
     "data": {
      "text/plain": [
       "0.4666666666666667"
      ]
     },
     "execution_count": 43,
     "metadata": {},
     "output_type": "execute_result"
    }
   ],
   "source": [
    "check_participation_score(top_members,challenge)"
   ]
  },
  {
   "cell_type": "markdown",
   "metadata": {},
   "source": [
    "# Creating Output CSV"
   ]
  },
  {
   "cell_type": "code",
   "execution_count": 44,
   "metadata": {},
   "outputs": [],
   "source": [
    "test_data = {}\n",
    "for ind,row in df_out.iterrows():\n",
    "    if row['Date Date'] not in test_data:\n",
    "        if row['Challenge ID'] in challenges:\n",
    "            test_data[row['Date Date']] = [row['Challenge ID']]\n",
    "        else:\n",
    "             test_data[row['Date Date']] =[]\n",
    "    else:\n",
    "        if row['Challenge ID'] not in test_data[row['Date Date']] and row['Challenge ID'] in challenges:\n",
    "            test_data[row['Date Date']].append(row['Challenge ID'])"
   ]
  },
  {
   "cell_type": "code",
   "execution_count": 45,
   "metadata": {
    "scrolled": true
   },
   "outputs": [
    {
     "name": "stderr",
     "output_type": "stream",
     "text": [
      "100%|████████████████████████████████████████████████████████████████████████████████████████████████████████████████████████████████████| 3/3 [00:00<00:00, 15.59it/s]\n",
      "100%|████████████████████████████████████████████████████████████████████████████████████████████████████████████████████████████████| 274/274 [00:30<00:00,  9.09it/s]\n",
      "100%|████████████████████████████████████████████████████████████████████████████████████████████████████████████████████████████████| 475/475 [00:39<00:00, 12.03it/s]\n",
      "100%|████████████████████████████████████████████████████████████████████████████████████████████████████████████████████████████████| 726/726 [00:46<00:00, 15.67it/s]\n",
      "100%|████████████████████████████████████████████████████████████████████████████████████████████████████████████████████████████████| 995/995 [01:00<00:00, 16.54it/s]\n",
      "100%|██████████████████████████████████████████████████████████████████████████████████████████████████████████████████████████████| 1255/1255 [01:10<00:00, 17.85it/s]\n",
      "100%|██████████████████████████████████████████████████████████████████████████████████████████████████████████████████████████████| 1480/1480 [02:28<00:00,  9.99it/s]\n",
      "100%|██████████████████████████████████████████████████████████████████████████████████████████████████████████████████████████████| 1754/1754 [01:44<00:00, 16.83it/s]\n",
      "100%|██████████████████████████████████████████████████████████████████████████████████████████████████████████████████████████████| 2120/2120 [02:06<00:00, 16.75it/s]\n",
      "100%|██████████████████████████████████████████████████████████████████████████████████████████████████████████████████████████████| 2489/2489 [02:26<00:00, 17.02it/s]\n"
     ]
    }
   ],
   "source": [
    "output_data = []\n",
    "for key in test_labels:\n",
    "    end = key.split('-')[-1].replace('/','-')\n",
    "    chal =[] \n",
    "    for k,v in test_data.items():\n",
    "        if k >= end:\n",
    "             chal.extend(v)\n",
    "    test_challenges = list(set(chal))\n",
    "    for challenge in tqdm.tqdm(test_challenges):\n",
    "        if challenge in challenges:\n",
    "            skills = challenges[challenge]\n",
    "            top_members = recommend_members(model,{'id':str(challenge),'skills':skills},test_member_profiles[key])\n",
    "            temp = [key,challenge,skills]\n",
    "            temp.extend(top_members)\n",
    "            output_data.append(temp)"
   ]
  },
  {
   "cell_type": "code",
   "execution_count": 46,
   "metadata": {},
   "outputs": [
    {
     "data": {
      "text/plain": [
       "11571"
      ]
     },
     "execution_count": 46,
     "metadata": {},
     "output_type": "execute_result"
    }
   ],
   "source": [
    "# no of test challenges in each slice\n",
    "# 2020-10-23 3 \n",
    "# 2020-08-24 274 \n",
    "# 2020-06-25 475\n",
    "# 2020-04-26 726\n",
    "# 2020-02-26 995 \n",
    "# 2019-12-28 1255\n",
    "# 2019-10-29 1480\n",
    "# 2019-08-30 1754\n",
    "# 2019-07-01 2120\n",
    "# 2019-05-02 2489\n",
    "\n",
    "len(output_data) # 11571"
   ]
  },
  {
   "cell_type": "code",
   "execution_count": 47,
   "metadata": {},
   "outputs": [
    {
     "data": {
      "text/plain": [
       "(11571, 63)"
      ]
     },
     "execution_count": 47,
     "metadata": {},
     "output_type": "execute_result"
    }
   ],
   "source": [
    "columns = ['time block', 'challenge id', 'challenge skills profile']\n",
    "for i in range(1,61):\n",
    "    columns.append(str(i))\n",
    "output = pd.DataFrame(output_data, columns = columns)\n",
    "output.shape"
   ]
  },
  {
   "cell_type": "code",
   "execution_count": 48,
   "metadata": {},
   "outputs": [
    {
     "data": {
      "text/html": [
       "<div>\n",
       "<style scoped>\n",
       "    .dataframe tbody tr th:only-of-type {\n",
       "        vertical-align: middle;\n",
       "    }\n",
       "\n",
       "    .dataframe tbody tr th {\n",
       "        vertical-align: top;\n",
       "    }\n",
       "\n",
       "    .dataframe thead th {\n",
       "        text-align: right;\n",
       "    }\n",
       "</style>\n",
       "<table border=\"1\" class=\"dataframe\">\n",
       "  <thead>\n",
       "    <tr style=\"text-align: right;\">\n",
       "      <th></th>\n",
       "      <th>time block</th>\n",
       "      <th>challenge id</th>\n",
       "      <th>challenge skills profile</th>\n",
       "      <th>1</th>\n",
       "      <th>2</th>\n",
       "      <th>3</th>\n",
       "      <th>4</th>\n",
       "      <th>5</th>\n",
       "      <th>6</th>\n",
       "      <th>7</th>\n",
       "      <th>...</th>\n",
       "      <th>51</th>\n",
       "      <th>52</th>\n",
       "      <th>53</th>\n",
       "      <th>54</th>\n",
       "      <th>55</th>\n",
       "      <th>56</th>\n",
       "      <th>57</th>\n",
       "      <th>58</th>\n",
       "      <th>59</th>\n",
       "      <th>60</th>\n",
       "    </tr>\n",
       "  </thead>\n",
       "  <tbody>\n",
       "    <tr>\n",
       "      <th>0</th>\n",
       "      <td>2016/09/14-2020/10/23</td>\n",
       "      <td>30146536</td>\n",
       "      <td>[Digital Technology, Sendto, Set Theory, Web B...</td>\n",
       "      <td>vvvpig</td>\n",
       "      <td>SATKAN</td>\n",
       "      <td>khanfaraz</td>\n",
       "      <td>vasilica.olariu</td>\n",
       "      <td>kmurti</td>\n",
       "      <td>creeya</td>\n",
       "      <td>Subhu</td>\n",
       "      <td>...</td>\n",
       "      <td>yrtchn</td>\n",
       "      <td>starck181995</td>\n",
       "      <td>wenbin</td>\n",
       "      <td>eng01</td>\n",
       "      <td>oninkxronda</td>\n",
       "      <td>bpalleri</td>\n",
       "      <td>banerjeesourish</td>\n",
       "      <td>ipraznik</td>\n",
       "      <td>wleite</td>\n",
       "      <td>anonymousjaggu</td>\n",
       "    </tr>\n",
       "    <tr>\n",
       "      <th>1</th>\n",
       "      <td>2016/09/14-2020/10/23</td>\n",
       "      <td>30146426</td>\n",
       "      <td>[Digital Technology, Sendto, Set Theory, User ...</td>\n",
       "      <td>vvvpig</td>\n",
       "      <td>vasilica.olariu</td>\n",
       "      <td>SATKAN</td>\n",
       "      <td>nauhil</td>\n",
       "      <td>sdgun</td>\n",
       "      <td>nicokontes</td>\n",
       "      <td>codejam</td>\n",
       "      <td>...</td>\n",
       "      <td>shubhendus</td>\n",
       "      <td>gardn999</td>\n",
       "      <td>khanhlinh</td>\n",
       "      <td>starck181995</td>\n",
       "      <td>sylar</td>\n",
       "      <td>wenbin</td>\n",
       "      <td>veshu</td>\n",
       "      <td>rajeshrathod</td>\n",
       "      <td>ananthhh</td>\n",
       "      <td>namanhams</td>\n",
       "    </tr>\n",
       "    <tr>\n",
       "      <th>2</th>\n",
       "      <td>2016/09/14-2020/10/23</td>\n",
       "      <td>30146749</td>\n",
       "      <td>[Application Programming Interface (API), Crow...</td>\n",
       "      <td>ngoctay</td>\n",
       "      <td>tuxing</td>\n",
       "      <td>kinfkong</td>\n",
       "      <td>jiangliwu</td>\n",
       "      <td>Ghost_141</td>\n",
       "      <td>zsudraco</td>\n",
       "      <td>seriyvolk83</td>\n",
       "      <td>...</td>\n",
       "      <td>mhykol</td>\n",
       "      <td>selvia_ettine</td>\n",
       "      <td>iaminfinite</td>\n",
       "      <td>tk2rush90</td>\n",
       "      <td>freegod</td>\n",
       "      <td>wleite</td>\n",
       "      <td>basuki</td>\n",
       "      <td>khanhlinh</td>\n",
       "      <td>diazz</td>\n",
       "      <td>starck181995</td>\n",
       "    </tr>\n",
       "    <tr>\n",
       "      <th>3</th>\n",
       "      <td>2016/07/16-2020/08/24</td>\n",
       "      <td>30141440</td>\n",
       "      <td>[Bootstrap (FRONT-END FRAMEWORK), Codebase, Fi...</td>\n",
       "      <td>N1k1tung</td>\n",
       "      <td>soso0574</td>\n",
       "      <td>ouyangki</td>\n",
       "      <td>Ghost_141</td>\n",
       "      <td>jiangliwu</td>\n",
       "      <td>nghi85</td>\n",
       "      <td>zsudraco</td>\n",
       "      <td>...</td>\n",
       "      <td>DooMachine</td>\n",
       "      <td>Veve</td>\n",
       "      <td>jiangyue808</td>\n",
       "      <td>mancoolgunda</td>\n",
       "      <td>spanhawk</td>\n",
       "      <td>universo</td>\n",
       "      <td>Ksys</td>\n",
       "      <td>gets0ul</td>\n",
       "      <td>meshde</td>\n",
       "      <td>sr.harrison</td>\n",
       "    </tr>\n",
       "    <tr>\n",
       "      <th>4</th>\n",
       "      <td>2016/07/16-2020/08/24</td>\n",
       "      <td>30141441</td>\n",
       "      <td>[Codebase, Dashboard, Error Messages, Json Web...</td>\n",
       "      <td>universo</td>\n",
       "      <td>iamtong</td>\n",
       "      <td>Ravijune</td>\n",
       "      <td>iaminfinite</td>\n",
       "      <td>ToxicPixel</td>\n",
       "      <td>soso0574</td>\n",
       "      <td>eriantoongko</td>\n",
       "      <td>...</td>\n",
       "      <td>hi4sandy</td>\n",
       "      <td>DaraK</td>\n",
       "      <td>oninkxronda</td>\n",
       "      <td>ArteVisual</td>\n",
       "      <td>thinkcreeper</td>\n",
       "      <td>daga_sumit</td>\n",
       "      <td>ujazz</td>\n",
       "      <td>basuki</td>\n",
       "      <td>ChanKamWo</td>\n",
       "      <td>yiming</td>\n",
       "    </tr>\n",
       "  </tbody>\n",
       "</table>\n",
       "<p>5 rows × 63 columns</p>\n",
       "</div>"
      ],
      "text/plain": [
       "              time block  challenge id  \\\n",
       "0  2016/09/14-2020/10/23      30146536   \n",
       "1  2016/09/14-2020/10/23      30146426   \n",
       "2  2016/09/14-2020/10/23      30146749   \n",
       "3  2016/07/16-2020/08/24      30141440   \n",
       "4  2016/07/16-2020/08/24      30141441   \n",
       "\n",
       "                            challenge skills profile         1  \\\n",
       "0  [Digital Technology, Sendto, Set Theory, Web B...    vvvpig   \n",
       "1  [Digital Technology, Sendto, Set Theory, User ...    vvvpig   \n",
       "2  [Application Programming Interface (API), Crow...   ngoctay   \n",
       "3  [Bootstrap (FRONT-END FRAMEWORK), Codebase, Fi...  N1k1tung   \n",
       "4  [Codebase, Dashboard, Error Messages, Json Web...  universo   \n",
       "\n",
       "                 2          3                4           5           6  \\\n",
       "0           SATKAN  khanfaraz  vasilica.olariu      kmurti      creeya   \n",
       "1  vasilica.olariu     SATKAN           nauhil       sdgun  nicokontes   \n",
       "2           tuxing   kinfkong        jiangliwu   Ghost_141    zsudraco   \n",
       "3         soso0574   ouyangki        Ghost_141   jiangliwu      nghi85   \n",
       "4          iamtong   Ravijune      iaminfinite  ToxicPixel    soso0574   \n",
       "\n",
       "              7  ...          51             52           53            54  \\\n",
       "0         Subhu  ...      yrtchn   starck181995       wenbin         eng01   \n",
       "1       codejam  ...  shubhendus       gardn999    khanhlinh  starck181995   \n",
       "2   seriyvolk83  ...      mhykol  selvia_ettine  iaminfinite     tk2rush90   \n",
       "3      zsudraco  ...  DooMachine           Veve  jiangyue808  mancoolgunda   \n",
       "4  eriantoongko  ...    hi4sandy          DaraK  oninkxronda    ArteVisual   \n",
       "\n",
       "             55          56               57            58         59  \\\n",
       "0   oninkxronda    bpalleri  banerjeesourish      ipraznik     wleite   \n",
       "1         sylar      wenbin            veshu  rajeshrathod   ananthhh   \n",
       "2       freegod      wleite           basuki     khanhlinh      diazz   \n",
       "3      spanhawk    universo             Ksys       gets0ul     meshde   \n",
       "4  thinkcreeper  daga_sumit            ujazz        basuki  ChanKamWo   \n",
       "\n",
       "               60  \n",
       "0  anonymousjaggu  \n",
       "1       namanhams  \n",
       "2    starck181995  \n",
       "3     sr.harrison  \n",
       "4          yiming  \n",
       "\n",
       "[5 rows x 63 columns]"
      ]
     },
     "execution_count": 48,
     "metadata": {},
     "output_type": "execute_result"
    }
   ],
   "source": [
    "output.head()"
   ]
  },
  {
   "cell_type": "code",
   "execution_count": 49,
   "metadata": {},
   "outputs": [],
   "source": [
    "output.to_csv(\"recommendations.csv\",index=False)"
   ]
  },
  {
   "cell_type": "code",
   "execution_count": null,
   "metadata": {},
   "outputs": [],
   "source": []
  }
 ],
 "metadata": {
  "kernelspec": {
   "display_name": "Python 3",
   "language": "python",
   "name": "python3"
  },
  "language_info": {
   "codemirror_mode": {
    "name": "ipython",
    "version": 3
   },
   "file_extension": ".py",
   "mimetype": "text/x-python",
   "name": "python",
   "nbconvert_exporter": "python",
   "pygments_lexer": "ipython3",
   "version": "3.7.3"
  }
 },
 "nbformat": 4,
 "nbformat_minor": 2
}
